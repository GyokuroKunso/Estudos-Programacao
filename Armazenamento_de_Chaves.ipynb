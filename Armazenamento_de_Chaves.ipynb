{
  "nbformat": 4,
  "nbformat_minor": 0,
  "metadata": {
    "colab": {
      "provenance": [],
      "authorship_tag": "ABX9TyMziM2XDKNo8qsmboWcdIuv",
      "include_colab_link": true
    },
    "kernelspec": {
      "name": "python3",
      "display_name": "Python 3"
    },
    "language_info": {
      "name": "python"
    }
  },
  "cells": [
    {
      "cell_type": "markdown",
      "metadata": {
        "id": "view-in-github",
        "colab_type": "text"
      },
      "source": [
        "<a href=\"https://colab.research.google.com/github/GyokuroKunso/Estudos-Programacao/blob/main/Armazenamento_de_Chaves.ipynb\" target=\"_parent\"><img src=\"https://colab.research.google.com/assets/colab-badge.svg\" alt=\"Open In Colab\"/></a>"
      ]
    },
    {
      "cell_type": "code",
      "execution_count": 7,
      "metadata": {
        "colab": {
          "base_uri": "https://localhost:8080/"
        },
        "id": "oYEamI8Ubsh7",
        "outputId": "d7431993-5992-43d6-997e-9a68f084da5a"
      },
      "outputs": [
        {
          "output_type": "execute_result",
          "data": {
            "text/plain": [
              "['Lourdes', 'Zé', 'Marta', 'Marcos']"
            ]
          },
          "metadata": {},
          "execution_count": 7
        }
      ],
      "source": [
        "#O amarzem seria representado pelo \"contato\" e outros valores seria os objetos e\n",
        "#códigos para definir as determinadas chaves \n",
        "\n",
        "contato = {\n",
        "    'Ostervaldo' : 'oster@email.com',\n",
        "    'Maristênio' : 'marist@email.com',\n",
        "    'Leroiane' : 'lero@email.com', \n",
        "    'Jozezin' : ['zezin@exemplo.com', 'zemane@xemple.com']\n",
        "}\n",
        "\n",
        "\n",
        "\n",
        "#min() é usado para definir, quem seria o primeiro algaritimo ou objeto \n",
        "#max() é usado para definir, quem seria o ulimo algaritimo ou objeto\n",
        "#sorted() é usado para colocar em ordem tanto crescente quanto descresente do objeto\n",
        "\n",
        "corrida100m = {'Zé': 10, 'Marcos': 9.9, 'Marta': 9.98, 'Lourdes': 10.2 }\n",
        "\n",
        "primeiro = min(corrida100m, key= corrida100m.get);\n",
        "ultimo = max(corrida100m, key= corrida100m.get);\n",
        "ordenar = sorted(corrida100m, key= corrida100m.get)\n",
        "ordenarCertamente = sorted(corrida100m, key= corrida100m.get, reverse= True);\n",
        "\n",
        "ordenarCertamente"
      ]
    }
  ]
}