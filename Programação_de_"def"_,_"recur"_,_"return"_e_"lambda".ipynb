{
  "nbformat": 4,
  "nbformat_minor": 0,
  "metadata": {
    "colab": {
      "provenance": [],
      "authorship_tag": "ABX9TyMxrPevemOEQtC1DFDUclaw",
      "include_colab_link": true
    },
    "kernelspec": {
      "name": "python3",
      "display_name": "Python 3"
    },
    "language_info": {
      "name": "python"
    }
  },
  "cells": [
    {
      "cell_type": "markdown",
      "metadata": {
        "id": "view-in-github",
        "colab_type": "text"
      },
      "source": [
        "<a href=\"https://colab.research.google.com/github/GyokuroKunso/Estudos-Programacao/blob/main/Programa%C3%A7%C3%A3o_de_%22def%22_%2C_%22recur%22_%2C_%22return%22_e_%22lambda%22.ipynb\" target=\"_parent\"><img src=\"https://colab.research.google.com/assets/colab-badge.svg\" alt=\"Open In Colab\"/></a>"
      ]
    },
    {
      "cell_type": "markdown",
      "source": [
        "***Função(def):***"
      ],
      "metadata": {
        "id": "k3jfqDc5NXYi"
      }
    },
    {
      "cell_type": "code",
      "execution_count": null,
      "metadata": {
        "id": "tc4UcxcU8SSv"
      },
      "outputs": [],
      "source": [
        "#Progama de Definir algo:\n",
        "def my_first_function():\n",
        "  print('Minha primeira função')"
      ]
    },
    {
      "cell_type": "code",
      "source": [
        "my_first_function()\n"
      ],
      "metadata": {
        "colab": {
          "base_uri": "https://localhost:8080/"
        },
        "id": "5UhjHlgAIOJc",
        "outputId": "6b5d9b07-14d3-42bd-c6a0-7d37973dcb3f"
      },
      "execution_count": null,
      "outputs": [
        {
          "output_type": "stream",
          "name": "stdout",
          "text": [
            "Minha primeira função\n"
          ]
        }
      ]
    },
    {
      "cell_type": "code",
      "source": [
        "#EXEMPLO 1\n",
        "def melhorProtagonista(protagonista):\n",
        "  print(protagonista + \" é bem superior a Farya\")\n"
      ],
      "metadata": {
        "id": "DMm0P6EJDLhV"
      },
      "execution_count": null,
      "outputs": []
    },
    {
      "cell_type": "code",
      "source": [
        "melhorProtagonista('Sonic')"
      ],
      "metadata": {
        "colab": {
          "base_uri": "https://localhost:8080/"
        },
        "id": "RIuJL3VUIy4N",
        "outputId": "87772c2c-5c4c-4a11-b7a7-018298c6cc1c"
      },
      "execution_count": null,
      "outputs": [
        {
          "output_type": "stream",
          "name": "stdout",
          "text": [
            "Sonic é bem superior a Farya\n"
          ]
        }
      ]
    },
    {
      "cell_type": "code",
      "source": [
        "def sigmaThebest(sigma, nome):\n",
        "  print(sigma, \"é um vião de\" ,nome)"
      ],
      "metadata": {
        "id": "eI0Im3VMJ_C0"
      },
      "execution_count": null,
      "outputs": []
    },
    {
      "cell_type": "code",
      "source": [
        "sigmaThebest('Doctor Sigma', 'Megamen X')"
      ],
      "metadata": {
        "colab": {
          "base_uri": "https://localhost:8080/"
        },
        "id": "kMSFyPdHKVME",
        "outputId": "216f673f-8036-4530-fd06-2d095bf1e676"
      },
      "execution_count": null,
      "outputs": [
        {
          "output_type": "stream",
          "name": "stdout",
          "text": [
            "Doctor Sigma é um vião de Megamen X\n"
          ]
        }
      ]
    },
    {
      "cell_type": "code",
      "source": [
        "def nomeAnoquevcnasceu(nome, mes, ano):\n",
        "  for idadecompleta in (mes, ano):\n",
        "   idadecompleta = (2023 - ano) - (mes - 5) \n",
        "   print(nome, idadecompleta,'anos')"
      ],
      "metadata": {
        "id": "BbXEfAO4K33M"
      },
      "execution_count": null,
      "outputs": []
    },
    {
      "cell_type": "code",
      "source": [
        "nomeAnoquevcnasceu('Henrique', 6, 2004)"
      ],
      "metadata": {
        "colab": {
          "base_uri": "https://localhost:8080/"
        },
        "id": "9_xeM3BXNJ0r",
        "outputId": "3b9f7128-2b08-4ed8-994a-7f97cc9d7716"
      },
      "execution_count": null,
      "outputs": [
        {
          "output_type": "stream",
          "name": "stdout",
          "text": [
            "Henrique 18 anos\n",
            "Henrique 18 anos\n"
          ]
        }
      ]
    },
    {
      "cell_type": "markdown",
      "source": [
        "**Retorno**(**return**)"
      ],
      "metadata": {
        "id": "uVlKw-kVNusT"
      }
    },
    {
      "cell_type": "code",
      "source": [
        "#O programa pode ser usado para definir determinados algaritimos também\n",
        "def mediaTotal(*notas):\n",
        "  soma = 0\n",
        "  for nota in notas:\n",
        "    soma += nota\n",
        "    media = soma/len(notas)\n",
        "    print('A média é:', media)"
      ],
      "metadata": {
        "id": "kUmJoiWeEOiy"
      },
      "execution_count": 6,
      "outputs": []
    },
    {
      "cell_type": "code",
      "source": [
        "mediaTotal(8,9,10,5,6,4)"
      ],
      "metadata": {
        "id": "jDRSfFHjFVTq",
        "outputId": "befaf755-ff8f-4e23-9df2-f25a8931a8eb",
        "colab": {
          "base_uri": "https://localhost:8080/"
        }
      },
      "execution_count": 7,
      "outputs": [
        {
          "output_type": "stream",
          "name": "stdout",
          "text": [
            "A média é: 1.3333333333333333\n",
            "A média é: 2.8333333333333335\n",
            "A média é: 4.5\n",
            "A média é: 5.333333333333333\n",
            "A média é: 6.333333333333333\n",
            "A média é: 7.0\n"
          ]
        }
      ]
    },
    {
      "cell_type": "code",
      "source": [
        "#EXEMPLO 2\n",
        "def nacionalidade(country):\n",
        " print('Moro no '+ country)\n",
        "  \n",
        "nacionalidade('Brasil')\n",
        "  "
      ],
      "metadata": {
        "colab": {
          "base_uri": "https://localhost:8080/"
        },
        "id": "s9FO3ByeFiLw",
        "outputId": "91502fe7-4e8b-49dd-c6b0-a217c365283e"
      },
      "execution_count": null,
      "outputs": [
        {
          "output_type": "stream",
          "name": "stdout",
          "text": [
            "Moro no Brasil\n"
          ]
        }
      ]
    },
    {
      "cell_type": "code",
      "source": [
        "#Programa de para definir um determindado tipo de retorno exemplo usados: contas (IMC)\n",
        "def imc(peso,altura):\n",
        "  return peso/altura**2"
      ],
      "metadata": {
        "id": "-i30EmXaIgT4"
      },
      "execution_count": null,
      "outputs": []
    },
    {
      "cell_type": "code",
      "source": [
        "def situacaodoPeso(imc):\n",
        "  if(imc<18.5):\n",
        "    print('Abaixo do peso normal ( Magrinho')\n",
        "  elif(imc<24.9):\n",
        "    print('Peso normal (Tem sorte)')\n",
        "  elif(imc<29.9):\n",
        "    print('Exceso de peso(OPA!!!)')\n",
        "  elif(imc<34.9):\n",
        "    print('Obesidade tipo I(MDS!!!)')\n",
        "  elif(imc<39.9):\n",
        "    print('Obesidade tip II(BIG MC DE MAIS EM!!!)')\n",
        "  else:\n",
        "    print('Obesidade tipo III (BIG FAT!!!)') "
      ],
      "metadata": {
        "id": "pGBiq9ShIvq_"
      },
      "execution_count": null,
      "outputs": []
    },
    {
      "cell_type": "code",
      "source": [
        "situacaodoPeso(imc(87, 1.70))"
      ],
      "metadata": {
        "colab": {
          "base_uri": "https://localhost:8080/"
        },
        "id": "JR7cwLwfKeaZ",
        "outputId": "1998e17b-2876-49c6-ae73-151d4ba13102"
      },
      "execution_count": null,
      "outputs": [
        {
          "output_type": "stream",
          "name": "stdout",
          "text": [
            "Obesidade tipo I(MDS!!!)\n"
          ]
        }
      ]
    },
    {
      "cell_type": "code",
      "source": [
        " j = float(input('Coloque o valor do juros: '))\n",
        " c = float(input('Coloque o valor de capital inicial: '))\n",
        " i = float(input('Coloque o valor da taxa de juros: '))\n",
        " t = float(input('Coloque o valor do tempo de aplicação: '))\n",
        "\n",
        " resultado = ((j + c) - (i % t))\n",
        " print(resultado)\n",
        "      \n",
        "\n"
      ],
      "metadata": {
        "colab": {
          "base_uri": "https://localhost:8080/",
          "height": 304
        },
        "id": "otweXeVTaxu7",
        "outputId": "88df76e7-700e-4765-d4be-04c47a00f98c"
      },
      "execution_count": 94,
      "outputs": [
        {
          "name": "stdout",
          "output_type": "stream",
          "text": [
            "Coloque o valor do juros: 50\n",
            "Coloque o valor de capital inicial: 39\n",
            "Coloque o valor da taxa de juros: 109\n",
            "Coloque o valor do tempo de aplicação: '\n"
          ]
        },
        {
          "output_type": "error",
          "ename": "ValueError",
          "evalue": "ignored",
          "traceback": [
            "\u001b[0;31m---------------------------------------------------------------------------\u001b[0m",
            "\u001b[0;31mValueError\u001b[0m                                Traceback (most recent call last)",
            "\u001b[0;32m<ipython-input-94-378bc51b473a>\u001b[0m in \u001b[0;36m<cell line: 4>\u001b[0;34m()\u001b[0m\n\u001b[1;32m      2\u001b[0m \u001b[0mc\u001b[0m \u001b[0;34m=\u001b[0m \u001b[0mfloat\u001b[0m\u001b[0;34m(\u001b[0m\u001b[0minput\u001b[0m\u001b[0;34m(\u001b[0m\u001b[0;34m'Coloque o valor de capital inicial: '\u001b[0m\u001b[0;34m)\u001b[0m\u001b[0;34m)\u001b[0m\u001b[0;34m\u001b[0m\u001b[0;34m\u001b[0m\u001b[0m\n\u001b[1;32m      3\u001b[0m \u001b[0mi\u001b[0m \u001b[0;34m=\u001b[0m \u001b[0mfloat\u001b[0m\u001b[0;34m(\u001b[0m\u001b[0minput\u001b[0m\u001b[0;34m(\u001b[0m\u001b[0;34m'Coloque o valor da taxa de juros: '\u001b[0m\u001b[0;34m)\u001b[0m\u001b[0;34m)\u001b[0m\u001b[0;34m\u001b[0m\u001b[0;34m\u001b[0m\u001b[0m\n\u001b[0;32m----> 4\u001b[0;31m \u001b[0mt\u001b[0m \u001b[0;34m=\u001b[0m \u001b[0mfloat\u001b[0m\u001b[0;34m(\u001b[0m\u001b[0minput\u001b[0m\u001b[0;34m(\u001b[0m\u001b[0;34m'Coloque o valor do tempo de aplicação: '\u001b[0m\u001b[0;34m)\u001b[0m\u001b[0;34m)\u001b[0m\u001b[0;34m\u001b[0m\u001b[0;34m\u001b[0m\u001b[0m\n\u001b[0m\u001b[1;32m      5\u001b[0m \u001b[0;34m\u001b[0m\u001b[0m\n\u001b[1;32m      6\u001b[0m \u001b[0mresultado\u001b[0m \u001b[0;34m=\u001b[0m \u001b[0;34m(\u001b[0m\u001b[0;34m(\u001b[0m\u001b[0mj\u001b[0m \u001b[0;34m+\u001b[0m \u001b[0mc\u001b[0m\u001b[0;34m)\u001b[0m \u001b[0;34m-\u001b[0m \u001b[0;34m(\u001b[0m\u001b[0mi\u001b[0m \u001b[0;34m%\u001b[0m \u001b[0mt\u001b[0m\u001b[0;34m)\u001b[0m\u001b[0;34m)\u001b[0m\u001b[0;34m\u001b[0m\u001b[0;34m\u001b[0m\u001b[0m\n",
            "\u001b[0;31mValueError\u001b[0m: could not convert string to float: \"'\""
          ]
        }
      ]
    },
    {
      "cell_type": "code",
      "source": [
        " def jurosSimples(juros,capital,taxa_de_juro,tempo):\n",
        "  return (j(c * i * t))\n",
        "  resul == 0\n",
        "  for resultado2 in (j,c,t,i):\n",
        "     resul += resultado2\n",
        "     resultad = resultado2/len(j,c,i,t)\n",
        " \n",
        "     "
      ],
      "metadata": {
        "id": "pyVX2IrlhrPd"
      },
      "execution_count": 95,
      "outputs": []
    },
    {
      "cell_type": "code",
      "source": [
        " def juros(j):\n",
        "   return (jurosSimples(juros,capital,taxa_de_juro,tempo))"
      ],
      "metadata": {
        "id": "ywZl_vxPiVk_"
      },
      "execution_count": 11,
      "outputs": []
    },
    {
      "cell_type": "code",
      "source": [
        " def capital(c):\n",
        "  return (jurosSimples(juros,capital,taxa_de_juro,tempo))\n"
      ],
      "metadata": {
        "id": "MrNW_pemk6ka"
      },
      "execution_count": 12,
      "outputs": []
    },
    {
      "cell_type": "code",
      "source": [
        " def taxa_de_juro(i):\n",
        "  return (jurosSimples(juros,capital,taxa_de_juro,tempo))\n"
      ],
      "metadata": {
        "id": "d819WibLk6EC"
      },
      "execution_count": 77,
      "outputs": []
    },
    {
      "cell_type": "code",
      "source": [
        " def tempo(t):\n",
        "  return (jurosSimples(juros,capital,taxa_de_juro,tempo))"
      ],
      "metadata": {
        "id": "zhShD-2Zk5tc"
      },
      "execution_count": 23,
      "outputs": []
    },
    {
      "cell_type": "code",
      "source": [
        "pergunta_j = float(input('Coloque o valor de juros: '))\n",
        "for juros(j):\n",
        "\n",
        "pergunta_c = int(input('Coloque o valor da capital: '))\n",
        "for capital(c):\n",
        "\n",
        "pergunta_i = int(input('Coloque o valor de taxa de juros: '))\n",
        "for taxa_de_juro(i):\n",
        "\n",
        "pergunta_t = int(input('Coloque o valor de tempo: '))\n",
        "for tempo(t):\n",
        "\n",
        "\n",
        "print(resultad)\n",
        "\n",
        "\n"
      ],
      "metadata": {
        "id": "II8iuKU9FOKc",
        "outputId": "d891a484-aaef-4cea-b02d-98625ed78cb7",
        "colab": {
          "base_uri": "https://localhost:8080/",
          "height": 130
        }
      },
      "execution_count": 113,
      "outputs": [
        {
          "output_type": "error",
          "ename": "SyntaxError",
          "evalue": "ignored",
          "traceback": [
            "\u001b[0;36m  File \u001b[0;32m\"<ipython-input-113-95167b55f619>\"\u001b[0;36m, line \u001b[0;32m2\u001b[0m\n\u001b[0;31m    for juros(j):\u001b[0m\n\u001b[0m        ^\u001b[0m\n\u001b[0;31mSyntaxError\u001b[0m\u001b[0;31m:\u001b[0m cannot assign to function call\n"
          ]
        }
      ]
    },
    {
      "cell_type": "code",
      "source": [
        "j1 =float(input('Coloque o valor do juros:'))\n",
        " conta= 0\n",
        " for j in (juros(juros)): \n",
        "c1 =float(input('Coloque o valor de capital inicial:'))\n",
        "  for c in (jurosSimples(capital)):\n",
        " \n",
        "  i1 =float(input('Coloque o valor da taxa de juros:'))\n",
        "  for i in (jurosSimples(taxa_de_juro)):\n",
        " \n",
        "  t1 =float(input('Coloque o valor do tempo de aplicação:'))\n",
        "  for t in (jurosSimples(tempo)):"
      ],
      "metadata": {
        "id": "OWzWI-isfvQO",
        "colab": {
          "base_uri": "https://localhost:8080/",
          "height": 130
        },
        "outputId": "07057a54-e55b-4535-e3ef-e4b82e9b8dda"
      },
      "execution_count": 76,
      "outputs": [
        {
          "output_type": "error",
          "ename": "IndentationError",
          "evalue": "ignored",
          "traceback": [
            "\u001b[0;36m  File \u001b[0;32m\"<ipython-input-76-efeed37de9b2>\"\u001b[0;36m, line \u001b[0;32m8\u001b[0m\n\u001b[0;31m    i1 =float(input('Coloque o valor da taxa de juros:'))\u001b[0m\n\u001b[0m    ^\u001b[0m\n\u001b[0;31mIndentationError\u001b[0m\u001b[0;31m:\u001b[0m expected an indented block\n"
          ]
        }
      ]
    },
    {
      "cell_type": "code",
      "source": [],
      "metadata": {
        "id": "tF87yUBKBSom"
      },
      "execution_count": null,
      "outputs": []
    },
    {
      "cell_type": "markdown",
      "source": [
        "def triplo(num):\n",
        "  return 3*num"
      ],
      "metadata": {
        "id": "sgSI4dfbLaf3"
      }
    },
    {
      "cell_type": "code",
      "source": [
        "  def triploLam (num):\n",
        "   return 3*num"
      ],
      "metadata": {
        "id": "-6brOxcSBe8O"
      },
      "execution_count": 60,
      "outputs": []
    },
    {
      "cell_type": "code",
      "source": [
        "triploLam = lambda num : num * 3"
      ],
      "metadata": {
        "id": "SKD4RT4qOdvp"
      },
      "execution_count": 61,
      "outputs": []
    },
    {
      "cell_type": "code",
      "source": [
        "triploLam(69)"
      ],
      "metadata": {
        "colab": {
          "base_uri": "https://localhost:8080/"
        },
        "id": "kjPaGwKJOwQo",
        "outputId": "b5a735ed-7b19-4d76-9d40-abf75b7e88a2"
      },
      "execution_count": 63,
      "outputs": [
        {
          "output_type": "execute_result",
          "data": {
            "text/plain": [
              "207"
            ]
          },
          "metadata": {},
          "execution_count": 63
        }
      ]
    },
    {
      "cell_type": "markdown",
      "source": [
        "*Retorno com Lambda* **(lambda)**"
      ],
      "metadata": {
        "id": "cXVonwJ4Pp8X"
      }
    },
    {
      "cell_type": "code",
      "source": [
        "#Funções lambda são uma ferramenta poderosa na programação Python, que permite a \n",
        "#criação de funções anônimas, ou seja, sem necessidade de dar um nome para elas. \n",
        "#Elas são úteis quando precisamos de uma função simples, que será utilizada apenas uma vez e não precisa ser reutilizada em outro lugar do código\n",
        "\n",
        "notas = [6,7,7.7,8,9,10]"
      ],
      "metadata": {
        "id": "97S3PsTsPEHA"
      },
      "execution_count": null,
      "outputs": []
    },
    {
      "cell_type": "code",
      "source": [
        "def aprovados(nota):\n",
        "  return nota >= 7\n",
        "\n",
        "listaAprovados = list(filter(aprovados,notas))\n",
        "\n",
        "listaAprovados"
      ],
      "metadata": {
        "colab": {
          "base_uri": "https://localhost:8080/"
        },
        "id": "FZnkDnhcQTwF",
        "outputId": "40001e17-22b9-4ef7-be7d-a624c4f69561"
      },
      "execution_count": null,
      "outputs": [
        {
          "output_type": "execute_result",
          "data": {
            "text/plain": [
              "[7, 7.7, 8, 9, 10]"
            ]
          },
          "metadata": {},
          "execution_count": 15
        }
      ]
    },
    {
      "cell_type": "code",
      "source": [
        "listaAprovados2 = list(filter(lambda nota : nota >= 7,notas))\n",
        "\n",
        "listaAprovados2"
      ],
      "metadata": {
        "colab": {
          "base_uri": "https://localhost:8080/"
        },
        "id": "nHB1vmSZQy7m",
        "outputId": "29e3d6a3-bd8a-4bce-d288-fec7c5382a05"
      },
      "execution_count": null,
      "outputs": [
        {
          "output_type": "execute_result",
          "data": {
            "text/plain": [
              "[7, 7.7, 8, 9, 10]"
            ]
          },
          "metadata": {},
          "execution_count": 16
        }
      ]
    }
  ]
}