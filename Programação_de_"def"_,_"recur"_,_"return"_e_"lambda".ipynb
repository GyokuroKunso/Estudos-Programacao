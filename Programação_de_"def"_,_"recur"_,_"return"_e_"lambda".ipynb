{
  "nbformat": 4,
  "nbformat_minor": 0,
  "metadata": {
    "colab": {
      "provenance": [],
      "authorship_tag": "ABX9TyPZmGVb/x3YMsE1Uop0+o5u",
      "include_colab_link": true
    },
    "kernelspec": {
      "name": "python3",
      "display_name": "Python 3"
    },
    "language_info": {
      "name": "python"
    }
  },
  "cells": [
    {
      "cell_type": "markdown",
      "metadata": {
        "id": "view-in-github",
        "colab_type": "text"
      },
      "source": [
        "<a href=\"https://colab.research.google.com/github/GyokuroKunso/Estudos-Programacao/blob/main/Programa%C3%A7%C3%A3o_de_%22def%22_%2C_%22recur%22_%2C_%22return%22_e_%22lambda%22.ipynb\" target=\"_parent\"><img src=\"https://colab.research.google.com/assets/colab-badge.svg\" alt=\"Open In Colab\"/></a>"
      ]
    },
    {
      "cell_type": "markdown",
      "source": [
        "***Função(def):***"
      ],
      "metadata": {
        "id": "k3jfqDc5NXYi"
      }
    },
    {
      "cell_type": "code",
      "execution_count": 1,
      "metadata": {
        "id": "tc4UcxcU8SSv"
      },
      "outputs": [],
      "source": [
        "#Progama de Definir algo:\n",
        "def my_first_function():\n",
        "  print('Minha primeira função')"
      ]
    },
    {
      "cell_type": "code",
      "source": [
        "#EXEMPLO 1\n",
        "def melhorProtagonista(protagonista):\n",
        "  print(protagonista + ' bem superior a Farya')\n"
      ],
      "metadata": {
        "id": "DMm0P6EJDLhV"
      },
      "execution_count": 19,
      "outputs": []
    },
    {
      "cell_type": "markdown",
      "source": [
        "**Retorno**(**return**)"
      ],
      "metadata": {
        "id": "uVlKw-kVNusT"
      }
    },
    {
      "cell_type": "code",
      "source": [
        "#O programa pode ser usado para definir determinados algaritimos também\n",
        "def mediaTotal(*notas):\n",
        "  soma = 0\n",
        "  for nota in notas:\n",
        "    soma += nota\n",
        "    media = soma/len(notas)\n",
        "    print('A média é:', media)"
      ],
      "metadata": {
        "id": "kUmJoiWeEOiy"
      },
      "execution_count": 5,
      "outputs": []
    },
    {
      "cell_type": "code",
      "source": [
        "mediaTotal(8,9,10,5,6,4)"
      ],
      "metadata": {
        "colab": {
          "base_uri": "https://localhost:8080/",
          "height": 0
        },
        "id": "jDRSfFHjFVTq",
        "outputId": "0f65330e-6b6a-4ccb-cf74-6d4090843df3"
      },
      "execution_count": 6,
      "outputs": [
        {
          "output_type": "stream",
          "name": "stdout",
          "text": [
            "A média é: 1.3333333333333333\n",
            "A média é: 2.8333333333333335\n",
            "A média é: 4.5\n",
            "A média é: 5.333333333333333\n",
            "A média é: 6.333333333333333\n",
            "A média é: 7.0\n"
          ]
        }
      ]
    },
    {
      "cell_type": "code",
      "source": [
        "#EXEMPLO 2\n",
        "def nacionalidade(country):\n",
        " print('Moro no '+ country)\n",
        "  \n",
        "nacionalidade('Brasil')\n",
        "  "
      ],
      "metadata": {
        "colab": {
          "base_uri": "https://localhost:8080/",
          "height": 0
        },
        "id": "s9FO3ByeFiLw",
        "outputId": "41c1082c-12bd-45ac-b8ae-2701f0487ce5"
      },
      "execution_count": 30,
      "outputs": [
        {
          "output_type": "stream",
          "name": "stdout",
          "text": [
            "Moro no Brasil\n"
          ]
        }
      ]
    },
    {
      "cell_type": "code",
      "source": [
        "#Programa de para definir um determindado tipo de retorno exemplo usados: contas (IMC)\n",
        "def imc(peso,altura):\n",
        "  return peso/altura**2"
      ],
      "metadata": {
        "id": "-i30EmXaIgT4"
      },
      "execution_count": 31,
      "outputs": []
    },
    {
      "cell_type": "code",
      "source": [
        "def situacaodoPeso(imc):\n",
        "  if(imc<18.5):\n",
        "    print('Abaixo do peso normal')\n",
        "  elif(imc<24.9):\n",
        "    print('Peso normal')\n",
        "  elif(imc<29.9):\n",
        "    print('Exceso de peso')\n",
        "  elif(imc<34.9):\n",
        "    print('Obesidade tipo I')\n",
        "  elif(imc<39.9):\n",
        "    print('Obesidade tip II')\n",
        "  else:\n",
        "    print('Obesidade tipo III') "
      ],
      "metadata": {
        "id": "pGBiq9ShIvq_"
      },
      "execution_count": 35,
      "outputs": []
    },
    {
      "cell_type": "code",
      "source": [
        "situacaodoPeso(imc(83, 1.65))"
      ],
      "metadata": {
        "colab": {
          "base_uri": "https://localhost:8080/"
        },
        "id": "JR7cwLwfKeaZ",
        "outputId": "726702d7-5a5c-4377-dacf-e7bdd5c707cf"
      },
      "execution_count": 36,
      "outputs": [
        {
          "output_type": "stream",
          "name": "stdout",
          "text": [
            "Obesidade tipo I\n"
          ]
        }
      ]
    },
    {
      "cell_type": "code",
      "source": [
        "#Esse Comnando tem como principal função fatorial\n",
        "\n",
        "def fatorial(n):\n",
        "  if(n <= 1) :\n",
        "    return 1\n",
        "  else:\n",
        "    return n * fatorial(n-1)\n",
        "\n",
        "fatorial(7)\n"
      ],
      "metadata": {
        "colab": {
          "base_uri": "https://localhost:8080/"
        },
        "id": "KJ1HCv0wK9ku",
        "outputId": "30f89c1d-27ca-42fe-f29d-042ec4520975"
      },
      "execution_count": 38,
      "outputs": [
        {
          "output_type": "execute_result",
          "data": {
            "text/plain": [
              "5040"
            ]
          },
          "metadata": {},
          "execution_count": 38
        }
      ]
    },
    {
      "cell_type": "code",
      "source": [
        "def triplo(num):\n",
        "  return 3*num"
      ],
      "metadata": {
        "id": "sgSI4dfbLaf3"
      },
      "execution_count": 39,
      "outputs": []
    },
    {
      "cell_type": "code",
      "source": [
        "triploLam = lambda num : num * 3"
      ],
      "metadata": {
        "id": "SKD4RT4qOdvp"
      },
      "execution_count": 42,
      "outputs": []
    },
    {
      "cell_type": "code",
      "source": [
        "triploLam(69)"
      ],
      "metadata": {
        "colab": {
          "base_uri": "https://localhost:8080/"
        },
        "id": "kjPaGwKJOwQo",
        "outputId": "9ff6491a-9ee5-43b6-826c-277c0dc5724b"
      },
      "execution_count": 43,
      "outputs": [
        {
          "output_type": "execute_result",
          "data": {
            "text/plain": [
              "207"
            ]
          },
          "metadata": {},
          "execution_count": 43
        }
      ]
    },
    {
      "cell_type": "markdown",
      "source": [
        "*Retorno com Lambda* **(lambda)**"
      ],
      "metadata": {
        "id": "cXVonwJ4Pp8X"
      }
    },
    {
      "cell_type": "code",
      "source": [
        "#Funções lambda são uma ferramenta poderosa na programação Python, que permite a \n",
        "#criação de funções anônimas, ou seja, sem necessidade de dar um nome para elas. \n",
        "#Elas são úteis quando precisamos de uma função simples, que será utilizada apenas uma vez e não precisa ser reutilizada em outro lugar do código\n",
        "\n",
        "notas = [6,7,7.7,8,9,10]"
      ],
      "metadata": {
        "id": "97S3PsTsPEHA"
      },
      "execution_count": 44,
      "outputs": []
    },
    {
      "cell_type": "code",
      "source": [
        "def aprovados(nota):\n",
        "  return nota >= 7\n",
        "\n",
        "listaAprovados = list(filter(aprovados,notas))\n",
        "\n",
        "listaAprovados"
      ],
      "metadata": {
        "colab": {
          "base_uri": "https://localhost:8080/"
        },
        "id": "FZnkDnhcQTwF",
        "outputId": "434144dc-0fce-4fad-d6ad-ce340b72dd53"
      },
      "execution_count": 45,
      "outputs": [
        {
          "output_type": "execute_result",
          "data": {
            "text/plain": [
              "[7, 7.7, 8, 9, 10]"
            ]
          },
          "metadata": {},
          "execution_count": 45
        }
      ]
    },
    {
      "cell_type": "code",
      "source": [
        "listaAprovados2 = list(filter(lambda nota : nota >= 7,notas))\n",
        "\n",
        "listaAprovados2"
      ],
      "metadata": {
        "colab": {
          "base_uri": "https://localhost:8080/"
        },
        "id": "nHB1vmSZQy7m",
        "outputId": "5bf71d89-f69a-4054-d74b-fd20dbd17f58"
      },
      "execution_count": 46,
      "outputs": [
        {
          "output_type": "execute_result",
          "data": {
            "text/plain": [
              "[7, 7.7, 8, 9, 10]"
            ]
          },
          "metadata": {},
          "execution_count": 46
        }
      ]
    }
  ]
}