{
  "nbformat": 4,
  "nbformat_minor": 0,
  "metadata": {
    "colab": {
      "provenance": [],
      "authorship_tag": "ABX9TyPvL6stPItaH8hjWSUI0/CA",
      "include_colab_link": true
    },
    "kernelspec": {
      "name": "python3",
      "display_name": "Python 3"
    },
    "language_info": {
      "name": "python"
    }
  },
  "cells": [
    {
      "cell_type": "markdown",
      "metadata": {
        "id": "view-in-github",
        "colab_type": "text"
      },
      "source": [
        "<a href=\"https://colab.research.google.com/github/GyokuroKunso/Estudos-Programacao/blob/main/Tuplas.ipynb\" target=\"_parent\"><img src=\"https://colab.research.google.com/assets/colab-badge.svg\" alt=\"Open In Colab\"/></a>"
      ]
    },
    {
      "cell_type": "code",
      "execution_count": 1,
      "metadata": {
        "colab": {
          "base_uri": "https://localhost:8080/",
          "height": 217
        },
        "id": "hsm_oQJ9U5Ts",
        "outputId": "870c08ca-461b-4ac4-c2da-e9c6dc1e2f42"
      },
      "outputs": [
        {
          "output_type": "error",
          "ename": "AttributeError",
          "evalue": "ignored",
          "traceback": [
            "\u001b[0;31m---------------------------------------------------------------------------\u001b[0m",
            "\u001b[0;31mAttributeError\u001b[0m                            Traceback (most recent call last)",
            "\u001b[0;32m<ipython-input-1-9b562f5df28f>\u001b[0m in \u001b[0;36m<cell line: 2>\u001b[0;34m()\u001b[0m\n\u001b[1;32m      1\u001b[0m \u001b[0mtp_frutas\u001b[0m \u001b[0;34m=\u001b[0m \u001b[0;34m(\u001b[0m\u001b[0;34m'manga'\u001b[0m\u001b[0;34m,\u001b[0m\u001b[0;34m'jabuticaba'\u001b[0m\u001b[0;34m,\u001b[0m\u001b[0;34m'abacate'\u001b[0m\u001b[0;34m,\u001b[0m\u001b[0;34m'pamonha'\u001b[0m\u001b[0;34m)\u001b[0m\u001b[0;34m\u001b[0m\u001b[0;34m\u001b[0m\u001b[0m\n\u001b[0;32m----> 2\u001b[0;31m \u001b[0mtp_frutas\u001b[0m\u001b[0;34m.\u001b[0m\u001b[0mappend\u001b[0m\u001b[0;34m(\u001b[0m\u001b[0;34m'maçã'\u001b[0m\u001b[0;34m)\u001b[0m\u001b[0;34m\u001b[0m\u001b[0;34m\u001b[0m\u001b[0m\n\u001b[0m\u001b[1;32m      3\u001b[0m \u001b[0;34m\u001b[0m\u001b[0m\n\u001b[1;32m      4\u001b[0m \u001b[0mprint\u001b[0m\u001b[0;34m(\u001b[0m\u001b[0mtp_frutas\u001b[0m\u001b[0;34m)\u001b[0m\u001b[0;34m\u001b[0m\u001b[0;34m\u001b[0m\u001b[0m\n",
            "\u001b[0;31mAttributeError\u001b[0m: 'tuple' object has no attribute 'append'"
          ]
        }
      ],
      "source": [
        "tp_frutas = ('manga','jabuticaba','abacate','pamonha')\n",
        "tp_frutas.append('maçã')\n",
        "\n",
        "#As tuplas não possuem um código de \".append \"\n",
        "\n",
        "print(tp_frutas)"
      ]
    },
    {
      "cell_type": "markdown",
      "source": [
        "As tuplas são dados que incluem números que são colocadas parra sem"
      ],
      "metadata": {
        "id": "ltOiz9gxWeKz"
      }
    },
    {
      "cell_type": "code",
      "source": [
        "#Código de criação listas atravês de uma tuplas a partir de\n",
        "\n",
        "\n",
        "lst_frutas = list(tp_frutas);\n",
        "type(lst_frutas)\n",
        "lst_frutas"
      ],
      "metadata": {
        "colab": {
          "base_uri": "https://localhost:8080/"
        },
        "id": "pgj3yZQwXOda",
        "outputId": "0feee9d4-56bb-441a-f60c-2f694a7191e5"
      },
      "execution_count": 3,
      "outputs": [
        {
          "output_type": "execute_result",
          "data": {
            "text/plain": [
              "['manga', 'jabuticaba', 'abacate', 'pamonha']"
            ]
          },
          "metadata": {},
          "execution_count": 3
        }
      ]
    },
    {
      "cell_type": "code",
      "source": [
        "#Fatiamento (Slicing)\n",
        "\n",
        "tp_meses = ('janeiro','fevereiro','marco','abril','maio','junho','julho','agosto','setembro','outubro','novembro','dezembro');\n",
        "tp_meses[3:6];"
      ],
      "metadata": {
        "colab": {
          "base_uri": "https://localhost:8080/"
        },
        "id": "v7EvRLDbZBCe",
        "outputId": "0e11e6d2-2805-44dc-f7d3-07a447025ac6"
      },
      "execution_count": 5,
      "outputs": [
        {
          "output_type": "execute_result",
          "data": {
            "text/plain": [
              "('abril', 'maio', 'junho')"
            ]
          },
          "metadata": {},
          "execution_count": 5
        }
      ]
    },
    {
      "cell_type": "code",
      "source": [
        "#Coordenadas Geográficas\n",
        "coord = ();"
      ],
      "metadata": {
        "id": "9qOQUEYza1Kv"
      },
      "execution_count": null,
      "outputs": []
    },
    {
      "cell_type": "code",
      "source": [
        "#Código tupla que prevernir a mudança do ano nasncimento já colocado\n",
        "dta_criacao =( 424, 2, 4);"
      ],
      "metadata": {
        "id": "gSAbi0czcoHq"
      },
      "execution_count": null,
      "outputs": []
    },
    {
      "cell_type": "code",
      "source": [
        "uf_cod = [('PE',81), ('RJ', 21), ('SP',11), ('PB')];\n",
        "\n",
        "sorted(uf_cod = key +lamda x : [1]);"
      ],
      "metadata": {
        "id": "p38jeP_vdgW-"
      },
      "execution_count": null,
      "outputs": []
    },
    {
      "cell_type": "code",
      "source": [
        "nome_nasc = [('Zé' , 2003), ('Maria',1998), ('Alice',2000)]\n",
        "sorted(nome_nasc, key = lambda x: x[1], reverse = True) #do mais\n"
      ],
      "metadata": {
        "colab": {
          "base_uri": "https://localhost:8080/"
        },
        "id": "cyoOv8kweI5x",
        "outputId": "c1e2a26d-9207-4535-b321-748ee9dbfda6"
      },
      "execution_count": 9,
      "outputs": [
        {
          "output_type": "execute_result",
          "data": {
            "text/plain": [
              "[('Zé', 2003), ('Alice', 2000), ('Maria', 1998)]"
            ]
          },
          "metadata": {},
          "execution_count": 9
        }
      ]
    },
    {
      "cell_type": "code",
      "source": [
        "def nome_idade_uf():\n",
        "  nome = \"Arthur\"\n",
        "  idade = 18\n",
        "  uf = 'PB'\n",
        "\n",
        "  return nome, idade,uf\n",
        "\n",
        "name, age,uf = nome_idade_uf()\n",
        "\n",
        "print(name, age, uf)\n"
      ],
      "metadata": {
        "colab": {
          "base_uri": "https://localhost:8080/"
        },
        "id": "vq_J03iclfar",
        "outputId": "0fd3a4fe-2770-4269-fece-d9265da03bde"
      },
      "execution_count": 10,
      "outputs": [
        {
          "output_type": "stream",
          "name": "stdout",
          "text": [
            "Arthur 18 PB\n"
          ]
        }
      ]
    },
    {
      "cell_type": "code",
      "source": [
        "#Mapeamento de valores\n",
        "\n",
        "alunos = ('Giba','José','Marcos','Matheus','Tiago')\n",
        "notas = (8.0, 9.5, 8.5, 8.7, 9.5)\n",
        "\n",
        "Av1= tuple(zip(alunos,notas))\n",
        "Av1"
      ],
      "metadata": {
        "colab": {
          "base_uri": "https://localhost:8080/"
        },
        "id": "oS91u-lanol-",
        "outputId": "6a1d01e2-55e9-4717-f267-53b0790f2d19"
      },
      "execution_count": 13,
      "outputs": [
        {
          "output_type": "execute_result",
          "data": {
            "text/plain": [
              "(('Giba', 8.0),\n",
              " ('José', 9.5),\n",
              " ('Marcos', 8.5),\n",
              " ('Matheus', 8.7),\n",
              " ('Tiago', 9.5))"
            ]
          },
          "metadata": {},
          "execution_count": 13
        }
      ]
    },
    {
      "cell_type": "code",
      "source": [
        "   def agenda(tp1+tp2+tp3):\n",
        "   return tp1, + tp2 + tp3\n",
        "\n",
        "   dia = (12,13,14,15,16)\n",
        "   mes = ('junho','julho','agosto', 'setembro', 'outubro')\n",
        "   ano = (2000,2003,2400,2700)\n",
        " \n",
        "   agendinha(dia, mes, ano)\n",
        " "
      ],
      "metadata": {
        "colab": {
          "base_uri": "https://localhost:8080/",
          "height": 130
        },
        "id": "pg97d2bhqs0B",
        "outputId": "7d6fae59-f598-4700-b62e-5095a8a35f5c"
      },
      "execution_count": 36,
      "outputs": [
        {
          "output_type": "error",
          "ename": "SyntaxError",
          "evalue": "ignored",
          "traceback": [
            "\u001b[0;36m  File \u001b[0;32m\"<ipython-input-36-0b3d48e96995>\"\u001b[0;36m, line \u001b[0;32m1\u001b[0m\n\u001b[0;31m    def agenda (tp1+tp2+tp3):\u001b[0m\n\u001b[0m                   ^\u001b[0m\n\u001b[0;31mSyntaxError\u001b[0m\u001b[0;31m:\u001b[0m invalid syntax\n"
          ]
        }
      ]
    },
    {
      "cell_type": "code",
      "source": [
        "def formatada(tupla):\n",
        "  nome, logradauro, num, bairro =tupla\n",
        "  return f'Nome:{nome},residente a {logradouro},{num},{bairro}'\n",
        "\n",
        "  dadosCliente = ('Manoel','Rua das Couves', 42,'Torre')\n",
        "\n",
        "  print(formatada(dadosCliente))"
      ],
      "metadata": {
        "id": "ItcEXnwVv5T_"
      },
      "execution_count": null,
      "outputs": []
    }
  ]
}