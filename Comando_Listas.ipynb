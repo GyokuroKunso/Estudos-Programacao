{
  "nbformat": 4,
  "nbformat_minor": 0,
  "metadata": {
    "colab": {
      "provenance": [],
      "authorship_tag": "ABX9TyMiQyYh6nhtOnDCRt2YDqmb",
      "include_colab_link": true
    },
    "kernelspec": {
      "name": "python3",
      "display_name": "Python 3"
    },
    "language_info": {
      "name": "python"
    }
  },
  "cells": [
    {
      "cell_type": "markdown",
      "metadata": {
        "id": "view-in-github",
        "colab_type": "text"
      },
      "source": [
        "<a href=\"https://colab.research.google.com/github/GyokuroKunso/Estudos-Programacao/blob/main/Comando_Listas.ipynb\" target=\"_parent\"><img src=\"https://colab.research.google.com/assets/colab-badge.svg\" alt=\"Open In Colab\"/></a>"
      ]
    },
    {
      "cell_type": "code",
      "execution_count": null,
      "metadata": {
        "id": "8EDxJNxmMHSX"
      },
      "outputs": [],
      "source": [
        "#Para cria a sua lista é necessario você escrever, \"nome=['nome1','nome2',nome3]\"#\n",
        "fruta = ['abacaxi','banana','caucau','damasco','melancia','abacate','limão','maçã']"
      ]
    },
    {
      "cell_type": "code",
      "source": [
        "#A numeração de quantos objetos tem listadas em sua lista \"len(nome)\"#\n",
        "len(fruta)"
      ],
      "metadata": {
        "id": "QXgmkBH-MT_v"
      },
      "execution_count": null,
      "outputs": []
    },
    {
      "cell_type": "code",
      "source": [
        "#Comando para lista a numerção do localizada dos objetos da lista\n",
        "print(fruta[0])\n",
        "print(fruta[1])\n",
        "print(fruta[2])\n",
        "print(fruta[3])\n",
        "print(fruta[4])\n",
        "print(fruta[5])\n",
        "print(fruta[6])\n",
        "print(fruta[7])\n"
      ],
      "metadata": {
        "id": "9IOcEpr2MW7O"
      },
      "execution_count": null,
      "outputs": []
    },
    {
      "cell_type": "code",
      "source": [
        "lista_de_pablo = ['Corta a barba','Descobre à cura da calvice','Me torna o dono da Netflix','Frita todos os meus chimpazes(alunos)']"
      ],
      "metadata": {
        "id": "Z8dcaroyMaU-"
      },
      "execution_count": 4,
      "outputs": []
    },
    {
      "cell_type": "code",
      "source": [
        "len(lista_de_pablo)"
      ],
      "metadata": {
        "colab": {
          "base_uri": "https://localhost:8080/"
        },
        "id": "o7-0305sMdJW",
        "outputId": "bb2ef100-aef9-461a-bb1d-72463034c961"
      },
      "execution_count": 5,
      "outputs": [
        {
          "output_type": "execute_result",
          "data": {
            "text/plain": [
              "4"
            ]
          },
          "metadata": {},
          "execution_count": 5
        }
      ]
    },
    {
      "cell_type": "code",
      "source": [
        "#Comando para substituir algo na lista\n",
        "lista_de_pablo[3] = 'Ajuda meus chimapazes à programa'\n",
        "lista_de_pablo"
      ],
      "metadata": {
        "colab": {
          "base_uri": "https://localhost:8080/"
        },
        "id": "654AMDjOMgg-",
        "outputId": "b6f30ca4-375e-4cab-b584-22f843472266"
      },
      "execution_count": 6,
      "outputs": [
        {
          "output_type": "execute_result",
          "data": {
            "text/plain": [
              "['Corta a barba',\n",
              " 'Descobre à cura da calvice',\n",
              " 'Me torna o dono da Netflix',\n",
              " 'Ajuda meus chimapazes à programa']"
            ]
          },
          "metadata": {},
          "execution_count": 6
        }
      ]
    },
    {
      "cell_type": "code",
      "source": [
        "#Comando para adicionar algo na lista\n",
        "lista_de_pablo.append('Brincar com meus chimpazes')\n",
        "lista_de_pablo"
      ],
      "metadata": {
        "colab": {
          "base_uri": "https://localhost:8080/"
        },
        "id": "cv_XPNbUMhMO",
        "outputId": "7b4db21a-f92d-4a2c-94d6-3e474269afc8"
      },
      "execution_count": 7,
      "outputs": [
        {
          "output_type": "execute_result",
          "data": {
            "text/plain": [
              "['Corta a barba',\n",
              " 'Descobre à cura da calvice',\n",
              " 'Me torna o dono da Netflix',\n",
              " 'Ajuda meus chimapazes à programa',\n",
              " 'Brincar com meus chimpazes']"
            ]
          },
          "metadata": {},
          "execution_count": 7
        }
      ]
    },
    {
      "cell_type": "code",
      "source": [
        "print(lista_de_pablo[0])\n",
        "print(lista_de_pablo[1])\n",
        "print(lista_de_pablo[2])\n",
        "print(lista_de_pablo[3])\n",
        "print(lista_de_pablo[4])"
      ],
      "metadata": {
        "colab": {
          "base_uri": "https://localhost:8080/"
        },
        "id": "80NtG5QnMljG",
        "outputId": "6024ca8a-52ef-4339-9d70-42a843585b45"
      },
      "execution_count": 8,
      "outputs": [
        {
          "output_type": "stream",
          "name": "stdout",
          "text": [
            "Corta a barba\n",
            "Descobre à cura da calvice\n",
            "Me torna o dono da Netflix\n",
            "Ajuda meus chimapazes à programa\n",
            "Brincar com meus chimpazes\n"
          ]
        }
      ]
    },
    {
      "cell_type": "code",
      "source": [
        "lista_de_pablo.append(input('Digite alguma coisa na lista de Pablo :'))\n"
      ],
      "metadata": {
        "colab": {
          "base_uri": "https://localhost:8080/"
        },
        "id": "SmeDzlZVMoCm",
        "outputId": "b881379b-c8b8-4911-95ce-dfa136b697c4"
      },
      "execution_count": 9,
      "outputs": [
        {
          "name": "stdout",
          "output_type": "stream",
          "text": [
            "Digite alguma coisa na lista de Pablo :LISTA\n"
          ]
        }
      ]
    },
    {
      "cell_type": "code",
      "source": [
        "#Comando para dizer se \"isso\" possui ou não possui na lista\n",
        "\n",
        "if 'Me torna o dono da Netflix'in lista_de_pablo:\n",
        "  print('Sim, tem isto na lista')\n",
        "else:\n",
        "  print('Não,tem isto na lista')"
      ],
      "metadata": {
        "colab": {
          "base_uri": "https://localhost:8080/"
        },
        "id": "alfLgEfKNGD9",
        "outputId": "77910e70-c275-4186-ddea-1dbfe88ef1a5"
      },
      "execution_count": 10,
      "outputs": [
        {
          "output_type": "stream",
          "name": "stdout",
          "text": [
            "Sim, tem isto na lista\n"
          ]
        }
      ]
    },
    {
      "cell_type": "code",
      "source": [
        "#Comando para perguntar se possui ou não possui na lista\n",
        "\n",
        "lista = input('Digite alguma coisa na lista de Pablo :')\n",
        "if lista in lista_de_pablo:\n",
        "  print('Sim', lista,'sim  está listado')\n",
        "else:\n",
        "  print('Não,', lista,'não está listado ')"
      ],
      "metadata": {
        "colab": {
          "base_uri": "https://localhost:8080/"
        },
        "id": "-Nl-1yzPOYCl",
        "outputId": "f23fb9e4-02f9-43b9-bb2e-05f54b0edffe"
      },
      "execution_count": 29,
      "outputs": [
        {
          "output_type": "stream",
          "name": "stdout",
          "text": [
            "Digite alguma coisa na lista de Pablo :mamcos\n",
            "Não, mamcos não está listado \n"
          ]
        }
      ]
    },
    {
      "cell_type": "code",
      "source": [
        "del lista_de_pablo[0]"
      ],
      "metadata": {
        "id": "T72bJv_YSYC2"
      },
      "execution_count": null,
      "outputs": []
    },
    {
      "cell_type": "markdown",
      "source": [
        "LAÇOS\n"
      ],
      "metadata": {
        "id": "bO9ouIwFTOIc"
      }
    },
    {
      "cell_type": "code",
      "source": [
        "ferias = []\n",
        "for num in range(30):\n",
        "    ferias.append(num) \n",
        "ferias"
      ],
      "metadata": {
        "id": "lAP3KsuITSP9"
      },
      "execution_count": null,
      "outputs": []
    },
    {
      "cell_type": "code",
      "source": [
        "dobro = []\n",
        "for num in ferias:\n",
        " dobro.append(ferias[num]*2)\n",
        "dobro"
      ],
      "metadata": {
        "colab": {
          "base_uri": "https://localhost:8080/"
        },
        "id": "1DoZ8yjdU3A0",
        "outputId": "d1fcde6d-7a9e-435a-e1bf-b38dc4e8ee4d"
      },
      "execution_count": 53,
      "outputs": [
        {
          "output_type": "execute_result",
          "data": {
            "text/plain": [
              "[0,\n",
              " 2,\n",
              " 4,\n",
              " 6,\n",
              " 8,\n",
              " 10,\n",
              " 12,\n",
              " 14,\n",
              " 16,\n",
              " 18,\n",
              " 20,\n",
              " 22,\n",
              " 24,\n",
              " 26,\n",
              " 28,\n",
              " 30,\n",
              " 32,\n",
              " 34,\n",
              " 36,\n",
              " 38,\n",
              " 40,\n",
              " 42,\n",
              " 44,\n",
              " 46,\n",
              " 48,\n",
              " 50,\n",
              " 52,\n",
              " 54,\n",
              " 56,\n",
              " 58]"
            ]
          },
          "metadata": {},
          "execution_count": 53
        }
      ]
    },
    {
      "cell_type": "code",
      "source": [
        "a = 9\n",
        "if a%2 == 0:\n",
        "  print('é par')\n",
        "else:\n",
        "  print('É impar') "
      ],
      "metadata": {
        "colab": {
          "base_uri": "https://localhost:8080/"
        },
        "id": "vxxdFLWHWDUV",
        "outputId": "f0f68c15-663a-4d2e-e6f3-cf3b9c9c3892"
      },
      "execution_count": 54,
      "outputs": [
        {
          "output_type": "stream",
          "name": "stdout",
          "text": [
            "É impar\n"
          ]
        }
      ]
    },
    {
      "cell_type": "code",
      "source": [
        "#respostas ímpares\n",
        "for num in ferias:\n",
        " if ferias[num]%2:\n",
        "   print(ferias[num])"
      ],
      "metadata": {
        "colab": {
          "base_uri": "https://localhost:8080/"
        },
        "id": "0jAy6iNpXWuk",
        "outputId": "a6e40295-c14b-4585-ca74-1406aa9d9a63"
      },
      "execution_count": 60,
      "outputs": [
        {
          "output_type": "stream",
          "name": "stdout",
          "text": [
            "1\n",
            "3\n",
            "5\n",
            "7\n",
            "9\n",
            "11\n",
            "13\n",
            "15\n",
            "17\n",
            "19\n",
            "21\n",
            "23\n",
            "25\n",
            "27\n",
            "29\n"
          ]
        }
      ]
    },
    {
      "cell_type": "code",
      "source": [
        "#respostas pares\n",
        "for num in ferias:\n",
        " if ferias[num]%2== 0:\n",
        "   print(ferias[num])"
      ],
      "metadata": {
        "colab": {
          "base_uri": "https://localhost:8080/"
        },
        "id": "VPXtivQPZntE",
        "outputId": "2f559fe6-0678-4c3e-f5c1-55a46920e2a0"
      },
      "execution_count": 61,
      "outputs": [
        {
          "output_type": "stream",
          "name": "stdout",
          "text": [
            "0\n",
            "2\n",
            "4\n",
            "6\n",
            "8\n",
            "10\n",
            "12\n",
            "14\n",
            "16\n",
            "18\n",
            "20\n",
            "22\n",
            "24\n",
            "26\n",
            "28\n"
          ]
        }
      ]
    }
  ]
}