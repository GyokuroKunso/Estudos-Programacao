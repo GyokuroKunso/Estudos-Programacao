{
  "nbformat": 4,
  "nbformat_minor": 0,
  "metadata": {
    "colab": {
      "provenance": [],
      "authorship_tag": "ABX9TyPqU259ygxeAvEoEzhifwwM",
      "include_colab_link": true
    },
    "kernelspec": {
      "name": "python3",
      "display_name": "Python 3"
    },
    "language_info": {
      "name": "python"
    }
  },
  "cells": [
    {
      "cell_type": "markdown",
      "metadata": {
        "id": "view-in-github",
        "colab_type": "text"
      },
      "source": [
        "<a href=\"https://colab.research.google.com/github/GyokuroKunso/Estudos-Programacao/blob/main/Tipos_de_Dados.ipynb\" target=\"_parent\"><img src=\"https://colab.research.google.com/assets/colab-badge.svg\" alt=\"Open In Colab\"/></a>"
      ]
    },
    {
      "cell_type": "code",
      "execution_count": 1,
      "metadata": {
        "colab": {
          "base_uri": "https://localhost:8080/"
        },
        "id": "K-3MpmkIBrHv",
        "outputId": "28211cba-ccd4-4674-ac8c-7a13e8c0882a"
      },
      "outputs": [
        {
          "output_type": "stream",
          "name": "stdout",
          "text": [
            "My First notebook\n"
          ]
        }
      ],
      "source": [
        "print('My First notebook')\n"
      ]
    },
    {
      "cell_type": "code",
      "source": [
        "name = 'Soares Henrique'\n",
        "print(name)"
      ],
      "metadata": {
        "colab": {
          "base_uri": "https://localhost:8080/"
        },
        "id": "pre_U7-ZCRnc",
        "outputId": "cdb57e31-0bc0-4967-e697-d6637093169e"
      },
      "execution_count": 6,
      "outputs": [
        {
          "output_type": "stream",
          "name": "stdout",
          "text": [
            "Soares Henrique\n"
          ]
        }
      ]
    },
    {
      "cell_type": "code",
      "source": [
        "print(c)"
      ],
      "metadata": {
        "colab": {
          "base_uri": "https://localhost:8080/"
        },
        "id": "rrncMiPaKhjG",
        "outputId": "141406a9-8db2-4cab-e13c-45975acf5ca6"
      },
      "execution_count": 14,
      "outputs": [
        {
          "output_type": "stream",
          "name": "stdout",
          "text": [
            "True\n"
          ]
        }
      ]
    },
    {
      "cell_type": "code",
      "source": [
        "type (a)\n",
        "\n"
      ],
      "metadata": {
        "colab": {
          "base_uri": "https://localhost:8080/"
        },
        "id": "vg7EM3YJEeXB",
        "outputId": "7ffb9339-ba42-4a93-eac7-120a0489aec3"
      },
      "execution_count": 10,
      "outputs": [
        {
          "output_type": "execute_result",
          "data": {
            "text/plain": [
              "int"
            ]
          },
          "metadata": {},
          "execution_count": 10
        }
      ]
    },
    {
      "cell_type": "code",
      "source": [
        "type (b)\n"
      ],
      "metadata": {
        "colab": {
          "base_uri": "https://localhost:8080/"
        },
        "id": "bMHNbib6JkpM",
        "outputId": "033fa5f9-9ca0-41c0-c27c-f8dc71696f38"
      },
      "execution_count": 13,
      "outputs": [
        {
          "output_type": "execute_result",
          "data": {
            "text/plain": [
              "float"
            ]
          },
          "metadata": {},
          "execution_count": 13
        }
      ]
    },
    {
      "cell_type": "code",
      "source": [
        "type (c)\n"
      ],
      "metadata": {
        "colab": {
          "base_uri": "https://localhost:8080/"
        },
        "id": "3qa_ldfHJokb",
        "outputId": "0e811c53-cc4f-4460-97fe-b3a0be00530b"
      },
      "execution_count": 12,
      "outputs": [
        {
          "output_type": "execute_result",
          "data": {
            "text/plain": [
              "bool"
            ]
          },
          "metadata": {},
          "execution_count": 12
        }
      ]
    },
    {
      "cell_type": "code",
      "source": [
        "type (d)"
      ],
      "metadata": {
        "colab": {
          "base_uri": "https://localhost:8080/"
        },
        "id": "yL5VC9u9JrOz",
        "outputId": "3dd1bcb0-4410-4079-b504-61ba6467d3a4"
      },
      "execution_count": 11,
      "outputs": [
        {
          "output_type": "execute_result",
          "data": {
            "text/plain": [
              "str"
            ]
          },
          "metadata": {},
          "execution_count": 11
        }
      ]
    },
    {
      "cell_type": "code",
      "source": [
        "#Search type a varivel\n",
        "type(name)"
      ],
      "metadata": {
        "colab": {
          "base_uri": "https://localhost:8080/"
        },
        "id": "PSQt4wM0Clfc",
        "outputId": "30eb0922-56ca-4b16-b61c-1cb40c5cd4b6"
      },
      "execution_count": 4,
      "outputs": [
        {
          "output_type": "execute_result",
          "data": {
            "text/plain": [
              "str"
            ]
          },
          "metadata": {},
          "execution_count": 4
        }
      ]
    },
    {
      "cell_type": "code",
      "source": [
        "a = 100 < 200\n",
        "b = 85 == 6\n",
        "c = 'pablo' == 'Ramon'\n",
        "d = 25 == '25'\n",
        "e = 30 == (6*5)\n",
        "f= 'Fla'!= 'Vas'"
      ],
      "metadata": {
        "id": "_SkACkvqK-vH"
      },
      "execution_count": 27,
      "outputs": []
    },
    {
      "cell_type": "code",
      "source": [
        "print(a)\n",
        "print(b)\n",
        "print(c)\n",
        "print(d)\n",
        "print(e) \n",
        "print(f)"
      ],
      "metadata": {
        "colab": {
          "base_uri": "https://localhost:8080/"
        },
        "id": "_cTjrWsTLhF_",
        "outputId": "3112c370-9d2f-4f7d-95df-0c7d3c5f6056"
      },
      "execution_count": 19,
      "outputs": [
        {
          "output_type": "stream",
          "name": "stdout",
          "text": [
            "True\n",
            "False\n",
            "False\n",
            "False\n",
            "True\n",
            "True\n"
          ]
        }
      ]
    },
    {
      "cell_type": "code",
      "source": [
        "notaAprovacao= 7.0\n",
        "notaWallison = 8.0\n",
        "print(notaAprovacao < notaWallison)\n",
        "\n"
      ],
      "metadata": {
        "colab": {
          "base_uri": "https://localhost:8080/"
        },
        "id": "UP4dngzpMwAs",
        "outputId": "6b790f02-a157-42b2-8fff-443f44a5bfea"
      },
      "execution_count": 24,
      "outputs": [
        {
          "output_type": "stream",
          "name": "stdout",
          "text": [
            "True\n"
          ]
        }
      ]
    },
    {
      "cell_type": "code",
      "source": [
        "if (notaAprovacao >= notaWallison):\n",
        "        print('Aprovado')\n",
        "else:\n",
        "          print (\"Reprovado\")"
      ],
      "metadata": {
        "colab": {
          "base_uri": "https://localhost:8080/"
        },
        "id": "MQfQ2dzANz6_",
        "outputId": "6bcc9be5-9486-47e2-a74e-139052bec289"
      },
      "execution_count": 26,
      "outputs": [
        {
          "output_type": "stream",
          "name": "stdout",
          "text": [
            "Reprovado\n"
          ]
        }
      ]
    },
    {
      "cell_type": "code",
      "source": [
        "if(notaWallison >= 7.0):\n",
        "   print('Aprovado')\n",
        "elif(notaWallison >= 4 and notaWallison < 7):\n",
        "  print('Recuperação')\n",
        "else:\n",
        "  print('Reprovado')\n",
        "\n",
        " "
      ],
      "metadata": {
        "colab": {
          "base_uri": "https://localhost:8080/"
        },
        "id": "55_JXsLxTfUG",
        "outputId": "a5dca554-8023-431d-ad5e-26f9336b31f8"
      },
      "execution_count": 43,
      "outputs": [
        {
          "output_type": "stream",
          "name": "stdout",
          "text": [
            "Aprovado\n"
          ]
        }
      ]
    },
    {
      "cell_type": "code",
      "source": [
        "nota1 = input('Digitr a nota, pae!')\n",
        "nota2 = input('Digite a segunda nota!')\n",
        "print(nota1+nota2)"
      ],
      "metadata": {
        "colab": {
          "base_uri": "https://localhost:8080/"
        },
        "id": "OHR16Cm5USPG",
        "outputId": "58976fbf-613a-4cf0-d302-20e5d134edec"
      },
      "execution_count": 48,
      "outputs": [
        {
          "output_type": "stream",
          "name": "stdout",
          "text": [
            "Digitr a nota, pae!5\n",
            "Digite a segunda nota!3\n",
            "53\n"
          ]
        }
      ]
    },
    {
      "cell_type": "code",
      "source": [
        "nota1 = float(input('Digitr a nota, pae!:'))\n",
        "nota2 = float(input('Digite a segunda nota!:'))\n",
        "print(nota1+nota2)"
      ],
      "metadata": {
        "colab": {
          "base_uri": "https://localhost:8080/"
        },
        "id": "cI7H7-OfVElk",
        "outputId": "de3b5fa7-3698-40b9-9621-7574dbe7a37a"
      },
      "execution_count": 51,
      "outputs": [
        {
          "output_type": "stream",
          "name": "stdout",
          "text": [
            "Digitr a nota, pae!:50\n",
            "Digite a segunda nota!:10\n",
            "60.0\n"
          ]
        }
      ]
    },
    {
      "cell_type": "code",
      "source": [
        "nota1 = float(input('Digitr a nota, pae!:'))\n",
        "nota2 = float(input('Digite a segunda nota!:'))\n",
        "nota3 = float(input('Digite a terceira nota!:'))\n",
        "media = (nota1+ nota2 +nota3)/3\n",
        "print(media)\n"
      ],
      "metadata": {
        "colab": {
          "base_uri": "https://localhost:8080/"
        },
        "id": "5cZQWeb8Ws0o",
        "outputId": "1f2565d1-bfa7-4586-c5e0-121db2d3b9a8"
      },
      "execution_count": 54,
      "outputs": [
        {
          "output_type": "stream",
          "name": "stdout",
          "text": [
            "Digitr a nota, pae!:10\n",
            "Digite a segunda nota!:0\n",
            "Digite a terceira nota!:11\n",
            "7.0\n"
          ]
        }
      ]
    },
    {
      "cell_type": "code",
      "source": [
        "if(media < 4):\n",
        " print('Reprovado')\n",
        "elif(media < 7):\n",
        "  print('Recuperação')\n",
        "else:\n",
        "  print('Aprovado')"
      ],
      "metadata": {
        "colab": {
          "base_uri": "https://localhost:8080/"
        },
        "id": "rQufvBV6XGob",
        "outputId": "d2e4a344-ac8e-4746-9ab5-7f22b1e99756"
      },
      "execution_count": 55,
      "outputs": [
        {
          "output_type": "stream",
          "name": "stdout",
          "text": [
            "Aprovado\n"
          ]
        }
      ]
    }
  ]
}