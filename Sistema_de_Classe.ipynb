{
  "nbformat": 4,
  "nbformat_minor": 0,
  "metadata": {
    "colab": {
      "provenance": [],
      "authorship_tag": "ABX9TyPabP2srl5JmpagQxBhHvYP",
      "include_colab_link": true
    },
    "kernelspec": {
      "name": "python3",
      "display_name": "Python 3"
    },
    "language_info": {
      "name": "python"
    }
  },
  "cells": [
    {
      "cell_type": "markdown",
      "metadata": {
        "id": "view-in-github",
        "colab_type": "text"
      },
      "source": [
        "<a href=\"https://colab.research.google.com/github/GyokuroKunso/Estudos-Python/blob/main/Sistema_de_Classe.ipynb\" target=\"_parent\"><img src=\"https://colab.research.google.com/assets/colab-badge.svg\" alt=\"Open In Colab\"/></a>"
      ]
    },
    {
      "cell_type": "code",
      "execution_count": 28,
      "metadata": {
        "id": "nYHkdIewbkON"
      },
      "outputs": [],
      "source": [
        "#Alga\n",
        "class Pessoa:\n",
        "  def __init__(self, name):\n",
        "    self.name = name"
      ]
    },
    {
      "cell_type": "code",
      "source": [
        "aluno= Pessoa('Caio')\n",
        "aluno.name"
      ],
      "metadata": {
        "colab": {
          "base_uri": "https://localhost:8080/",
          "height": 35
        },
        "id": "IZukxMdRhn19",
        "outputId": "177e95be-1410-4249-ac1c-8b6cbb4776c6"
      },
      "execution_count": 29,
      "outputs": [
        {
          "output_type": "execute_result",
          "data": {
            "text/plain": [
              "'Caio'"
            ],
            "application/vnd.google.colaboratory.intrinsic+json": {
              "type": "string"
            }
          },
          "metadata": {},
          "execution_count": 29
        }
      ]
    },
    {
      "cell_type": "code",
      "source": [
        "class Funcionario:\n",
        "  def __init__(self, nome, cargo, matricula):\n",
        "    self.nome = nome\n",
        "    self.cargo = cargo\n",
        "    self.matricula = matricula"
      ],
      "metadata": {
        "id": "TX8sg28sitlN"
      },
      "execution_count": 30,
      "outputs": []
    },
    {
      "cell_type": "code",
      "source": [
        "vendedor = Funcionario('Juarez','vendedor',13214)\n",
        "print(f'nome: {vendedor.nome},cargo: {vendedor.cargo},mat: {vendedor.matricula}')"
      ],
      "metadata": {
        "colab": {
          "base_uri": "https://localhost:8080/"
        },
        "id": "uHM2BS0ZkGX-",
        "outputId": "97c0a247-20e8-4575-cf56-89eb18458e36"
      },
      "execution_count": 37,
      "outputs": [
        {
          "output_type": "stream",
          "name": "stdout",
          "text": [
            "nome: Juarez,cargo: vendedor,mat: 13214\n"
          ]
        }
      ]
    },
    {
      "cell_type": "code",
      "source": [
        "class Cliente:\n",
        "  def __init__(self,nome,idade,sexo):\n",
        "    self.nome = nome\n",
        "    self.idade = idade\n",
        "    self.sexo = sexo\n",
        "  def detalhe(self):\n",
        "    print(f'Nome: {self.nome}, Idade: {self.idade}, Sexo: {self.sexo}') "
      ],
      "metadata": {
        "id": "JZvK_-Hjlo5-"
      },
      "execution_count": 42,
      "outputs": []
    },
    {
      "cell_type": "code",
      "source": [
        "cli = Cliente('André',23,'Masculino')\n",
        "cli.detalhe()"
      ],
      "metadata": {
        "colab": {
          "base_uri": "https://localhost:8080/"
        },
        "id": "lr3hDzeXnnxg",
        "outputId": "a11e77ee-6c8f-4ac9-ee97-f9984578cab5"
      },
      "execution_count": 43,
      "outputs": [
        {
          "output_type": "stream",
          "name": "stdout",
          "text": [
            "Nome: André, Idade: 23, Sexo: Masculino\n"
          ]
        }
      ]
    },
    {
      "cell_type": "code",
      "source": [
        "usuario = Cliente('Carlos',25,'masculino')\n",
        "print(f'nome: {usuario.nome}, idade: {usuario.idade},sexo: {usuario.sexo}')"
      ],
      "metadata": {
        "colab": {
          "base_uri": "https://localhost:8080/"
        },
        "id": "gZWAcRy_mAUG",
        "outputId": "6a04fed2-32ea-4fb3-d3ef-de739f2116eb"
      },
      "execution_count": 36,
      "outputs": [
        {
          "output_type": "stream",
          "name": "stdout",
          "text": [
            "nome: Carlos, idade: 25,sexo: masculino\n"
          ]
        }
      ]
    },
    {
      "cell_type": "code",
      "source": [
        "class Conta:\n",
        "  def __init__(self,titular,saldo):\n",
        "    self.titular = titular\n",
        "    self.saldo = saldo\n",
        "  def exibirsalto(self):\n",
        "    print(f'{self.titular} ----- R${self.saldo},00')"
      ],
      "metadata": {
        "id": "gY1ysQOJolyd"
      },
      "execution_count": 62,
      "outputs": []
    },
    {
      "cell_type": "code",
      "source": [
        "con = Conta('Marcos Felipe', 500)\n",
        "con.exibirsalto()"
      ],
      "metadata": {
        "colab": {
          "base_uri": "https://localhost:8080/"
        },
        "id": "dcm2qGrSpREK",
        "outputId": "c5afb373-ebe9-4a45-a258-9191afb23a78"
      },
      "execution_count": 63,
      "outputs": [
        {
          "output_type": "stream",
          "name": "stdout",
          "text": [
            "Marcos Felipe ----- R$500,00\n"
          ]
        }
      ]
    },
    {
      "cell_type": "code",
      "source": [
        "class Animal:\n",
        "  def __init__(self, name):\n",
        "    self.name = name\n",
        "  def emitirSom(self):\n",
        "    pass\n",
        "\n",
        "class Ovelha(Animal):\n",
        "  def emitirSom(self):\n",
        "    print('Béeeeeeeee')  \n",
        "\n",
        "class Cachorro(Animal):\n",
        "  def emitirSom(self):\n",
        "    print('Au Au')\n",
        "\n",
        "class Vaca(Animal):\n",
        "  def emitirSom(self):\n",
        "    print('Moooo Mooo') \n",
        "\n",
        "class Galinha(Animal):\n",
        "  def emitirSom(self):\n",
        "    print('Kooo Pooo Kooo')\n"
      ],
      "metadata": {
        "id": "UbtOwgomtU7V"
      },
      "execution_count": 65,
      "outputs": []
    },
    {
      "cell_type": "code",
      "source": [
        "ovelinha = Ovelha('Ana')\n",
        "cachorrinho = Cachorro('Oddy')\n",
        "vaquinha = Vaca('Moozena')\n",
        "galinhazinha = Galinha('Gisele')"
      ],
      "metadata": {
        "id": "BrRhlhmsuk7m"
      },
      "execution_count": 66,
      "outputs": []
    }
  ]
}