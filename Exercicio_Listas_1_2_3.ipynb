{
  "nbformat": 4,
  "nbformat_minor": 0,
  "metadata": {
    "colab": {
      "provenance": [],
      "authorship_tag": "ABX9TyPCalAAvsD8atQvHkA0FHgJ",
      "include_colab_link": true
    },
    "kernelspec": {
      "name": "python3",
      "display_name": "Python 3"
    },
    "language_info": {
      "name": "python"
    }
  },
  "cells": [
    {
      "cell_type": "markdown",
      "metadata": {
        "id": "view-in-github",
        "colab_type": "text"
      },
      "source": [
        "<a href=\"https://colab.research.google.com/github/GyokuroKunso/Estudos-Programacao/blob/main/Exercicio_Listas_1_2_3.ipynb\" target=\"_parent\"><img src=\"https://colab.research.google.com/assets/colab-badge.svg\" alt=\"Open In Colab\"/></a>"
      ]
    },
    {
      "cell_type": "code",
      "execution_count": 2,
      "metadata": {
        "id": "x3CEtlHOuqji"
      },
      "outputs": [],
      "source": [
        "atores = ['Will Smith','Adam Sandler','Jim Carrey','Brad Pitt','Johan Travolta']\n",
        "\n",
        "atrizes = ['Angeline Jolie','Meryl Streep','Cameron Diaz','Jennifer Lopez','Kristen Stewart']"
      ]
    },
    {
      "cell_type": "code",
      "source": [
        "nome = input('Digite o nome autor ou atriz: ')\n",
        "if nome in (atores and atrizes):\n",
        "  print('Tem', nome)\n",
        "else:\n",
        "  print('Não tem', nome)"
      ],
      "metadata": {
        "colab": {
          "base_uri": "https://localhost:8080/"
        },
        "id": "a7G7pG89wR66",
        "outputId": "4d3d0cba-c959-4b64-8358-b4505caded91"
      },
      "execution_count": 44,
      "outputs": [
        {
          "output_type": "stream",
          "name": "stdout",
          "text": [
            "Digite o nome autor ou atriz: Angeline Jolie\n",
            "Não tem Angeline Jolie\n"
          ]
        }
      ]
    },
    {
      "cell_type": "code",
      "source": [
        "nome = input('Digite o nome autor ou atriz: ')\n",
        "if nome in (atores and atrizes):\n",
        "  print('Tem', nome)\n",
        "  del(atores and atrizes)[0]\n",
        "else:\n",
        "  print('Não tem', nome)\n",
        "  \n"
      ],
      "metadata": {
        "colab": {
          "base_uri": "https://localhost:8080/"
        },
        "id": "HywRxf2kwpuE",
        "outputId": "aa818be8-71d0-485e-b97a-15b8aa6409fe"
      },
      "execution_count": 43,
      "outputs": [
        {
          "output_type": "stream",
          "name": "stdout",
          "text": [
            "Digite o nome autor ou atriz: Angeline Jolie\n",
            "Não tem Angeline Jolie\n"
          ]
        }
      ]
    }
  ]
}