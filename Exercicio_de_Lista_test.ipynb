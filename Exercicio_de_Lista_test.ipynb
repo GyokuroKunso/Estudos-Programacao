{
  "nbformat": 4,
  "nbformat_minor": 0,
  "metadata": {
    "colab": {
      "provenance": [],
      "authorship_tag": "ABX9TyOVMi9X2GOg654s+a7Fotk6",
      "include_colab_link": true
    },
    "kernelspec": {
      "name": "python3",
      "display_name": "Python 3"
    },
    "language_info": {
      "name": "python"
    }
  },
  "cells": [
    {
      "cell_type": "markdown",
      "metadata": {
        "id": "view-in-github",
        "colab_type": "text"
      },
      "source": [
        "<a href=\"https://colab.research.google.com/github/GyokuroKunso/Estudos-Programacao/blob/main/Exercicio_de_Lista_test.ipynb\" target=\"_parent\"><img src=\"https://colab.research.google.com/assets/colab-badge.svg\" alt=\"Open In Colab\"/></a>"
      ]
    },
    {
      "cell_type": "code",
      "execution_count": null,
      "metadata": {
        "id": "GrEjjg6ZSl9n"
      },
      "outputs": [],
      "source": [
        "cont = 1\n",
        "numeros =[]\n",
        "tamanho = int(input('Digite um número que deseja ser contado: '))\n",
        "\n",
        "\n",
        "while(cont <= tamanho):\n",
        "  numeros.append(cont)\n",
        "  cont += 1\n",
        "\n",
        "numeros\n",
        "\n"
      ]
    },
    {
      "cell_type": "code",
      "source": [
        "\n",
        "cidades = ['New York', 'Washigton D.C', 'Hurricane', 'Bangladesh']\n",
        "city = input('Digite um nome de uma cidade: ')\n",
        "\n",
        "while(city != '0'):\n",
        " cidades.append(city)\n",
        " city = input('Digite um nome de uma cidade: ') \n",
        "\n",
        "cidades"
      ],
      "metadata": {
        "id": "gVjNnVuVUv5x"
      },
      "execution_count": null,
      "outputs": []
    }
  ]
}