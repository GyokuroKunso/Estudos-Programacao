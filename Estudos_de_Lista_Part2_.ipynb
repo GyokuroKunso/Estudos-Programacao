{
  "nbformat": 4,
  "nbformat_minor": 0,
  "metadata": {
    "colab": {
      "provenance": [],
      "authorship_tag": "ABX9TyOgp2ykoBms1At7s36vFLV6",
      "include_colab_link": true
    },
    "kernelspec": {
      "name": "python3",
      "display_name": "Python 3"
    },
    "language_info": {
      "name": "python"
    }
  },
  "cells": [
    {
      "cell_type": "markdown",
      "metadata": {
        "id": "view-in-github",
        "colab_type": "text"
      },
      "source": [
        "<a href=\"https://colab.research.google.com/github/GyokuroKunso/Estudos-Programacao/blob/main/Estudos_de_Lista_Part2_.ipynb\" target=\"_parent\"><img src=\"https://colab.research.google.com/assets/colab-badge.svg\" alt=\"Open In Colab\"/></a>"
      ]
    },
    {
      "cell_type": "code",
      "execution_count": 8,
      "metadata": {
        "colab": {
          "base_uri": "https://localhost:8080/"
        },
        "id": "XkU8XgHtbTqT",
        "outputId": "685dc4d0-6a29-46ab-9bf7-222dbcb89fff"
      },
      "outputs": [
        {
          "output_type": "stream",
          "name": "stdout",
          "text": [
            "[40, 80, 100, 120]\n"
          ]
        }
      ],
      "source": [
        "Numero = [20,50, 60,40];\n",
        "\n",
        "#Um código para listas, que ira multiplicar os itens/objetos que pertencem a lista#\n",
        "Novalist = list(map(lambda x: x*2,Numero));\n",
        "\n",
        "#Um código para deixar em ordem de números exemplo( Exempolo.sort();)#\n",
        "Novalist.sort();\n",
        "\n",
        "print(Novalist);"
      ]
    },
    {
      "cell_type": "code",
      "source": [
        "Personagens = [\"Darth Vader\", \"Luke Skywalker\", \"Han Solo\", \"Darth Sidius\", \"Leia Skywalker\",\"Conde Du´Kan\"]\n",
        "Personagens.sort();\n",
        "\n",
        "print(Personagens);\n",
        "\n",
        "\n",
        "#Código que Lista a quantidade de letras para cada um dos personagens listados na lista \"Personagens\"#\n",
        "\n",
        "NovoCharacters = list(map(lambda x: len(x),Personagens))\n",
        "NovoCharacters.sort();\n",
        "\n",
        "print(NovoCharacters);"
      ],
      "metadata": {
        "colab": {
          "base_uri": "https://localhost:8080/"
        },
        "id": "lf3x7CAmru7o",
        "outputId": "df45d9f3-0eb5-4fac-a3ae-046d01dbac53"
      },
      "execution_count": 11,
      "outputs": [
        {
          "output_type": "stream",
          "name": "stdout",
          "text": [
            "[8, 11, 11, 12, 14, 14]\n"
          ]
        }
      ]
    },
    {
      "cell_type": "code",
      "source": [
        "Precos = [70.90, 500.20, 68.90, 54.79];\n",
        "\n",
        "Novopreco = list(map(lambda x: x+2,Precos));\n",
        "Novopreco.sort();\n",
        "\n",
        "print(Novopreco);"
      ],
      "metadata": {
        "colab": {
          "base_uri": "https://localhost:8080/"
        },
        "id": "uKe4uJKJtw_l",
        "outputId": "1e5235bf-6b17-4c47-bb53-fbf311f79dd4"
      },
      "execution_count": 14,
      "outputs": [
        {
          "output_type": "stream",
          "name": "stdout",
          "text": [
            "[56.79, 70.9, 72.9, 502.2]\n"
          ]
        }
      ]
    },
    {
      "cell_type": "code",
      "source": [
        "\n",
        "NotaDasProvas = [9.5, 5.8, 10.0, 7.0, 9.0];\n",
        "\n",
        "AprovadosDasProvas = list(filter(lambda x: x>= 7,NotaDasProvas));\n",
        "AprovadosDasProvas.sort();\n",
        "\n",
        "print(AprovadosDasProvas);\n"
      ],
      "metadata": {
        "colab": {
          "base_uri": "https://localhost:8080/"
        },
        "id": "KDb07GDTvlxZ",
        "outputId": "b4ed7eaa-7882-46a5-b9a0-69322e0c80ed"
      },
      "execution_count": 19,
      "outputs": [
        {
          "output_type": "stream",
          "name": "stdout",
          "text": [
            "[7.0, 9.0, 9.5, 10.0]\n"
          ]
        }
      ]
    }
  ]
}