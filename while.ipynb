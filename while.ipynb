{
  "nbformat": 4,
  "nbformat_minor": 0,
  "metadata": {
    "colab": {
      "provenance": [],
      "authorship_tag": "ABX9TyO/OuUAxxUVt3hagErFe8Cv",
      "include_colab_link": true
    },
    "kernelspec": {
      "name": "python3",
      "display_name": "Python 3"
    },
    "language_info": {
      "name": "python"
    }
  },
  "cells": [
    {
      "cell_type": "markdown",
      "metadata": {
        "id": "view-in-github",
        "colab_type": "text"
      },
      "source": [
        "<a href=\"https://colab.research.google.com/github/GyokuroKunso/Estudos-Programacao/blob/main/while.ipynb\" target=\"_parent\"><img src=\"https://colab.research.google.com/assets/colab-badge.svg\" alt=\"Open In Colab\"/></a>"
      ]
    },
    {
      "cell_type": "code",
      "execution_count": null,
      "metadata": {
        "colab": {
          "base_uri": "https://localhost:8080/"
        },
        "id": "nUsiT3H8B9zV",
        "outputId": "227b9cde-9cf7-4c7b-ebad-70c3323a3584"
      },
      "outputs": [
        {
          "output_type": "stream",
          "name": "stdout",
          "text": [
            "Digite o número intero que seja maior do que 1: 2\n",
            "1\n",
            "2\n"
          ]
        }
      ],
      "source": [
        "cont = 1\n",
        "num = int(input('Digite o número intero que seja maior do que 1: '))\n",
        "while(cont <= num):\n",
        "  if(num > 1):\n",
        "   print(cont)\n",
        "  else: \n",
        "   print('Digite um número maior que 1') \n",
        "  cont+= 1\n",
        "  \n",
        "\n"
      ]
    },
    {
      "cell_type": "code",
      "source": [
        "cont= 1\n",
        "soma = 0\n",
        "num= int(input('Digite o número que a soma dele der 30:'))\n",
        "\n",
        "\n",
        "while(cont <= num ):\n",
        "  soma += cont\n",
        "  cont +=1\n",
        " \n",
        "print(cont)\n",
        "\n"
      ],
      "metadata": {
        "colab": {
          "base_uri": "https://localhost:8080/"
        },
        "id": "mt0hnn1gJHoT",
        "outputId": "05861307-e706-4e9b-9ff7-e8f1e0cb1318"
      },
      "execution_count": null,
      "outputs": [
        {
          "output_type": "stream",
          "name": "stdout",
          "text": [
            "Digite o número que a soma dele der 30:5\n",
            "2\n",
            "3\n",
            "4\n",
            "5\n",
            "6\n"
          ]
        }
      ]
    },
    {
      "cell_type": "code",
      "source": [
        "#Informe as e\n",
        "senha = '12345'\n",
        "\n",
        "informe= input('Informe a senha, são apenas 5 digitos: ')\n",
        "cont = 0\n",
        "while(cont < 5):\n",
        "  cont+= 1\n",
        "  if (informe == senha):\n",
        "   print('Senha Correta')\n",
        "   cont +=1\n",
        "   break\n",
        "  else:\n",
        "    print('Senha Incorreta, tente novamente')\n",
        "    informe2= input('Informe a senha correta, ainda são apenas 5 digitos: ')\n",
        "  if (cont == 5):\n",
        "   print('Sua senha e sua familia foram devorados pelo Giborto Mirin Supremo')\n",
        "  else:\n",
        "    print('Informe a senha, são apenas 5 digitos:')\n",
        "    \n"
      ],
      "metadata": {
        "id": "Cw7OBJn9Of0Y",
        "outputId": "e3ecba41-509c-4fa3-c834-242f6a79b16d",
        "colab": {
          "base_uri": "https://localhost:8080/"
        }
      },
      "execution_count": 16,
      "outputs": [
        {
          "output_type": "stream",
          "name": "stdout",
          "text": [
            "Informe a senha, são apenas 5 digitos: 12345\n",
            "Senha Correta\n"
          ]
        }
      ]
    },
    {
      "cell_type": "code",
      "source": [
        "Elnombre = 'Obama'\n",
        "\n",
        "texto = input('Digite um nome, que seja mais conhecido pelo Mundo: ')\n",
        "cont= 0\n",
        "while(cont < 5):\n",
        "  cont+= 1\n",
        "  if (texto == Elnombre):\n",
        "    print('Você é muito bom, Meu Filho- Diz: Obama')\n",
        "    cont +=1\n",
        "    break\n",
        "  else:\n",
        "    print('Como você não me conhece? Eu literal melhorei o meu país e o mundo. Você me decepicinou,meu Jovem -Diz: Obama')\n",
        "    texto= input('Porém eu sou piedoso e permitirei mais uma chance: ')\n",
        "  if (texto == Elnombre):\n",
        "    print('Você é muito bom, Meu Filho- Diz: Obama')\n",
        "  \n",
        "  elif(cont ==1):\n",
        "    print('Os Estados Unidos quer a sua cabeça, então......CORRRAA AGORA!!!!!')\n",
        "    break\n",
        "  else:\n",
        "     print('Digite um nome, que seja mais conhecido pelo Mundo:')\n",
        "     break\n"
      ],
      "metadata": {
        "colab": {
          "base_uri": "https://localhost:8080/"
        },
        "id": "pr1U8qMRYCP9",
        "outputId": "0426a9a0-58cc-41c5-e77e-6deb82947b0d"
      },
      "execution_count": 15,
      "outputs": [
        {
          "output_type": "stream",
          "name": "stdout",
          "text": [
            "Digite um nome, que seja mais conhecido pelo Mundo: oi\n",
            "Como você não me conhece? Eu literal melhorei o meu país e o mundo. Você me decepicinou,meu Jovem -Diz: Obama\n",
            "Porém eu sou piedoso e permitirei mais uma chance: oi\n",
            "Os Estados Unidos quer a sua cabeça, então......CORRRAA AGORA!!!!!\n"
          ]
        }
      ]
    },
    {
      "cell_type": "code",
      "source": [],
      "metadata": {
        "id": "b2C_pFCXfxjd"
      },
      "execution_count": null,
      "outputs": []
    }
  ]
}