{
  "nbformat": 4,
  "nbformat_minor": 0,
  "metadata": {
    "colab": {
      "provenance": [],
      "authorship_tag": "ABX9TyNYNbx5df0hchfVbZXnNlxp",
      "include_colab_link": true
    },
    "kernelspec": {
      "name": "python3",
      "display_name": "Python 3"
    },
    "language_info": {
      "name": "python"
    }
  },
  "cells": [
    {
      "cell_type": "markdown",
      "metadata": {
        "id": "view-in-github",
        "colab_type": "text"
      },
      "source": [
        "<a href=\"https://colab.research.google.com/github/GyokuroKunso/Estudos-Programacao/blob/main/Exerc%C3%ADcio_Fun%C3%A7%C3%B5es.ipynb\" target=\"_parent\"><img src=\"https://colab.research.google.com/assets/colab-badge.svg\" alt=\"Open In Colab\"/></a>"
      ]
    },
    {
      "cell_type": "code",
      "source": [
        "personagens=['Arnold','Lily','Carlos','Butter','Clavin','Agente','Dexter','Samurai_Jack','Frango']\n",
        "\n",
        "   \n",
        "listNomesA = list(filter(lambda person: person[0] == 'A', personagens)) \n",
        "\n",
        "listNomesA"
      ],
      "metadata": {
        "colab": {
          "base_uri": "https://localhost:8080/"
        },
        "id": "O9ADsHxqSEFK",
        "outputId": "c6ed5e3d-dac9-49c9-9c95-fbbb764c2d5d"
      },
      "execution_count": 176,
      "outputs": [
        {
          "output_type": "execute_result",
          "data": {
            "text/plain": [
              "['Arnold', 'Agente']"
            ]
          },
          "metadata": {},
          "execution_count": 176
        }
      ]
    },
    {
      "cell_type": "code",
      "source": [],
      "metadata": {
        "id": "MaQUcq8KkEQY"
      },
      "execution_count": null,
      "outputs": []
    },
    {
      "cell_type": "code",
      "source": [
        "def produto(numeros):\n",
        "  resultado = 1\n",
        "  for n in numeros:\n",
        "    resultado *= n\n",
        "  return resultado\n",
        "\n",
        "numerozinhos = [2,4,8,16,32]\n",
        "produto(numerozinhos)"
      ],
      "metadata": {
        "colab": {
          "base_uri": "https://localhost:8080/"
        },
        "id": "TdRYywGLbcnH",
        "outputId": "4da683a1-0f0f-4049-cc55-89e949855616"
      },
      "execution_count": 73,
      "outputs": [
        {
          "output_type": "execute_result",
          "data": {
            "text/plain": [
              "32768"
            ]
          },
          "metadata": {},
          "execution_count": 73
        }
      ]
    },
    {
      "cell_type": "code",
      "source": [
        "def somatorio(numeros):\n",
        "  soma = 0\n",
        "  for n in numeros:\n",
        "    if n % 2 == 0:\n",
        "      soma += n\n",
        "  return soma\n"
      ],
      "metadata": {
        "id": "4iqQpNhRbcrQ"
      },
      "execution_count": 111,
      "outputs": []
    },
    {
      "cell_type": "code",
      "source": [
        "somatorio(numerozinhos)"
      ],
      "metadata": {
        "colab": {
          "base_uri": "https://localhost:8080/"
        },
        "id": "hgzeUjK3i_qf",
        "outputId": "818f3670-fc6b-4950-d354-e20279497ac9"
      },
      "execution_count": 112,
      "outputs": [
        {
          "output_type": "execute_result",
          "data": {
            "text/plain": [
              "62"
            ]
          },
          "metadata": {},
          "execution_count": 112
        }
      ]
    },
    {
      "cell_type": "code",
      "source": [
        "users = ['zeca','anastacio','josefina','ivo','amarallin']\n",
        "\n",
        "def maiorString(users):\n",
        "  maior = ''\n",
        "  for u in users:\n",
        "    if(len(u) >= len(maior)):\n",
        "     maior = u\n",
        "  return maior\n",
        "\n",
        "maiorString(users)"
      ],
      "metadata": {
        "colab": {
          "base_uri": "https://localhost:8080/",
          "height": 35
        },
        "id": "rtFzwpULkplR",
        "outputId": "ade7b28f-225e-4c9a-96d7-5ec6c51d2e46"
      },
      "execution_count": 152,
      "outputs": [
        {
          "output_type": "execute_result",
          "data": {
            "text/plain": [
              "'amarallin'"
            ],
            "application/vnd.google.colaboratory.intrinsic+json": {
              "type": "string"
            }
          },
          "metadata": {},
          "execution_count": 152
        }
      ]
    },
    {
      "cell_type": "code",
      "source": [
        "def fatorial(n):\n",
        "  if(n <= 1):\n",
        "    return 1\n",
        "  else:\n",
        "    return n * fatorial(n-1)"
      ],
      "metadata": {
        "id": "9MCahOLQqW9b"
      },
      "execution_count": 157,
      "outputs": []
    },
    {
      "cell_type": "code",
      "source": [
        "fatorial(5)"
      ],
      "metadata": {
        "colab": {
          "base_uri": "https://localhost:8080/"
        },
        "id": "voj-GaDGqr70",
        "outputId": "74006859-5933-4981-cc1f-1fabfc0784ea"
      },
      "execution_count": 158,
      "outputs": [
        {
          "output_type": "execute_result",
          "data": {
            "text/plain": [
              "120"
            ]
          },
          "metadata": {},
          "execution_count": 158
        }
      ]
    }
  ]
}